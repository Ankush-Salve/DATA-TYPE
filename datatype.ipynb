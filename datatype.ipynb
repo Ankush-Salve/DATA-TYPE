{
  "cells": [
    {
      "cell_type": "code",
      "execution_count": 62,
      "metadata": {
        "colab": {
          "base_uri": "https://localhost:8080/"
        },
        "id": "cuuqSoNT9Mz6",
        "outputId": "cdb9551b-d71d-4a5f-8f09-dadcfcdb8af5"
      },
      "outputs": [
        {
          "output_type": "stream",
          "name": "stdout",
          "text": [
            "ABHIMANYU\n",
            "abhimanyu\n",
            "Abhimanyu\n"
          ]
        }
      ],
      "source": [
        "#Built In function in string and list\n",
        "a=\"AbhiMANyu\"\n",
        "print(a.upper())\n",
        "print(a.lower())\n",
        "print(a.capitalize())"
      ]
    },
    {
      "cell_type": "code",
      "execution_count": 63,
      "metadata": {
        "colab": {
          "base_uri": "https://localhost:8080/"
        },
        "id": "9mEPAuUu-rL7",
        "outputId": "d58bd27a-1deb-4c59-8906-5f596d7ed50d"
      },
      "outputs": [
        {
          "output_type": "stream",
          "name": "stdout",
          "text": [
            "MEET\n"
          ]
        }
      ],
      "source": [
        "b=[\"Ayush\",\"mEEt\",\"Jeet\"]\n",
        "c=b[1]\n",
        "print(c.upper())"
      ]
    },
    {
      "cell_type": "code",
      "execution_count": 64,
      "metadata": {
        "colab": {
          "base_uri": "https://localhost:8080/"
        },
        "id": "nxRkYw3RAERU",
        "outputId": "91dea6b5-0afb-4f3f-d8a6-a0607ba3e47b"
      },
      "outputs": [
        {
          "output_type": "stream",
          "name": "stdout",
          "text": [
            "We are leaving in Indore since last 8 years, We are went in park everyday,We are like to play football, We are studing in college right now.\n"
          ]
        }
      ],
      "source": [
        "#change words from a sentence.\n",
        "sen=\"I am leaving in Indore since last 8 years, I am went in park everyday,I am like to play football, I am studing in college right now.\"\n",
        "print(sen.replace(\"I am\",\"We are\"))\n"
      ]
    },
    {
      "cell_type": "code",
      "execution_count": 65,
      "metadata": {
        "colab": {
          "base_uri": "https://localhost:8080/"
        },
        "id": "IeC95yCWBT6s",
        "outputId": "e2e2ec0a-81ce-4d7e-a344-1dcefbf7ff96"
      },
      "outputs": [
        {
          "output_type": "stream",
          "name": "stdout",
          "text": [
            "we are  leaving in Indore since last 8 years, we are  went in park everyday,we are  like to play football, we are  studing in college right now.\n"
          ]
        }
      ],
      "source": [
        "print(sen.replace(\"I am\",\"we are \"))"
      ]
    },
    {
      "cell_type": "code",
      "execution_count": 66,
      "metadata": {
        "colab": {
          "base_uri": "https://localhost:8080/"
        },
        "id": "uRj29pdcCQzT",
        "outputId": "12a20396-24eb-482c-df4a-6449d2ef3887"
      },
      "outputs": [
        {
          "output_type": "stream",
          "name": "stdout",
          "text": [
            "18\n"
          ]
        }
      ],
      "source": [
        "#For print lenght of the Sentence.\n",
        "Name=\"Rudra Pratap Singh\"\n",
        "print(len(Name))"
      ]
    },
    {
      "cell_type": "code",
      "execution_count": 67,
      "metadata": {
        "colab": {
          "base_uri": "https://localhost:8080/"
        },
        "id": "m6vQHQPNCzBD",
        "outputId": "532103b4-32ba-46d1-fd54-4c59b29bef23"
      },
      "outputs": [
        {
          "output_type": "stream",
          "name": "stdout",
          "text": [
            "2\n"
          ]
        }
      ],
      "source": [
        "#count Repeated alphabets.\n",
        "print(Name.count(\"r\"))"
      ]
    },
    {
      "cell_type": "code",
      "execution_count": 68,
      "metadata": {
        "colab": {
          "base_uri": "https://localhost:8080/"
        },
        "id": "yWzmpErKDZK1",
        "outputId": "b15c64e4-af43-47d1-e6bb-03be51a2eb10"
      },
      "outputs": [
        {
          "output_type": "stream",
          "name": "stdout",
          "text": [
            "['ai', 'IB', 'machine learing', 'computer science', 'java', 'python']\n"
          ]
        }
      ],
      "source": [
        "#Add new element in list.\n",
        "ab=[\"ai\",\"IB\",\"machine learing\",\"computer science\",\"java\"]\n",
        "ab.append(\"python\")\n",
        "print(ab)"
      ]
    },
    {
      "cell_type": "code",
      "execution_count": 69,
      "metadata": {
        "colab": {
          "base_uri": "https://localhost:8080/"
        },
        "id": "Q43v6BQ4G60G",
        "outputId": "9111cd04-d83e-4bcc-b3a2-1e11c5f55e5e"
      },
      "outputs": [
        {
          "output_type": "stream",
          "name": "stdout",
          "text": [
            "['ai', 'IB', 'machine learing', 'c++', 'computer science', 'java', 'python']\n"
          ]
        }
      ],
      "source": [
        "#insert element in middle in data.\n",
        "ab.insert(3,\"c++\")\n",
        "print(ab)"
      ]
    },
    {
      "cell_type": "code",
      "execution_count": 70,
      "metadata": {
        "colab": {
          "base_uri": "https://localhost:8080/"
        },
        "id": "WVSquG_WHoFS",
        "outputId": "91420cd1-282c-4917-dfbb-8f6e19ce1dd6"
      },
      "outputs": [
        {
          "output_type": "stream",
          "name": "stdout",
          "text": [
            "['ai', 'IB', 'machine learing', 'c++', 'computer science', 'python']\n"
          ]
        }
      ],
      "source": [
        "#removing element from list\n",
        "ab.remove(\"java\")\n",
        "print(ab)"
      ]
    },
    {
      "cell_type": "code",
      "execution_count": 71,
      "metadata": {
        "colab": {
          "base_uri": "https://localhost:8080/"
        },
        "id": "bvsMWx7HIV0h",
        "outputId": "e2e0dead-8fb6-4c6f-8b86-70aea5e768b9"
      },
      "outputs": [
        {
          "output_type": "stream",
          "name": "stdout",
          "text": [
            "['IB', 'machine learing', 'c++', 'computer science', 'python']\n"
          ]
        }
      ],
      "source": [
        "#pop\n",
        "ab.pop(0)\n",
        "print(ab)"
      ]
    },
    {
      "cell_type": "code",
      "execution_count": 72,
      "metadata": {
        "colab": {
          "base_uri": "https://localhost:8080/"
        },
        "id": "cequ7Y2eJl8Z",
        "outputId": "0c2dd2a4-d862-446d-f7e8-72f91627be32"
      },
      "outputs": [
        {
          "output_type": "stream",
          "name": "stdout",
          "text": [
            "['IB', 'machine learing', 'c++', 'computer science', 'python', 'India', 'usa', 'uae']\n"
          ]
        }
      ],
      "source": [
        "#adding multipule values in list.\n",
        "ab.extend([\"India\",\"usa\",\"uae\"])\n",
        "print(ab)"
      ]
    },
    {
      "cell_type": "code",
      "execution_count": 73,
      "metadata": {
        "colab": {
          "base_uri": "https://localhost:8080/"
        },
        "id": "KaSHPXSNLGvi",
        "outputId": "26760db7-e80e-4c16-cd6d-4cd9f552e37d"
      },
      "outputs": [
        {
          "output_type": "stream",
          "name": "stdout",
          "text": [
            "95\n",
            "1\n",
            "22\n",
            "257\n"
          ]
        }
      ],
      "source": [
        "#count numbers\n",
        "x=[1,2,5,5,5,4,1,1,14,4,58,2,4,5,5,7,7,7,8,8,9,95,]\n",
        "print(max(x))\n",
        "print(min(x))\n",
        "print(len(x))\n",
        "print(sum(x))"
      ]
    },
    {
      "cell_type": "code",
      "execution_count": 74,
      "metadata": {
        "colab": {
          "base_uri": "https://localhost:8080/"
        },
        "id": "ttZ8zqNjMRe-",
        "outputId": "b9421199-7262-4b59-cfed-eab2f666b770"
      },
      "outputs": [
        {
          "output_type": "stream",
          "name": "stdout",
          "text": [
            "[1, 1, 1, 1, 2, 2, 2, 3, 4, 4, 4, 5, 5, 5, 6, 7, 8, 8, 9]\n"
          ]
        }
      ],
      "source": [
        "#assanding number order\n",
        "c=[1,1,1,9,8,5,8,4,2,5,2,1,5,4,7,4,6,3,2]\n",
        "c.sort()\n",
        "print(c)"
      ]
    },
    {
      "cell_type": "code",
      "source": [
        "c.sort(reverse=True)\n",
        "print(c)"
      ],
      "metadata": {
        "colab": {
          "base_uri": "https://localhost:8080/"
        },
        "id": "CABcCRHD2BKQ",
        "outputId": "71eb8c7f-5bc8-4c28-e565-37c4704c67d5"
      },
      "execution_count": 75,
      "outputs": [
        {
          "output_type": "stream",
          "name": "stdout",
          "text": [
            "[9, 8, 8, 7, 6, 5, 5, 5, 4, 4, 4, 3, 2, 2, 2, 1, 1, 1, 1]\n"
          ]
        }
      ]
    },
    {
      "cell_type": "code",
      "execution_count": 76,
      "metadata": {
        "colab": {
          "base_uri": "https://localhost:8080/"
        },
        "id": "OajLt02uNHZI",
        "outputId": "83957bfc-1ca0-43c3-e773-9db6cc0545bd"
      },
      "outputs": [
        {
          "output_type": "stream",
          "name": "stdout",
          "text": [
            "[4, 5, 1, 5, 4, 2, 8, 6, 4, 5, 2, 4]\n"
          ]
        }
      ],
      "source": [
        "#Reverse number order\n",
        "list=[4,2,5,4,6,8,2,4,5,1,5,4]\n",
        "list.reverse()\n",
        "print(list)"
      ]
    },
    {
      "cell_type": "code",
      "source": [
        "#Nested list--- List inside in existing list\n",
        "a1=[\"gorav\",\"vivek\",\"mayank\",\"kapil\",[\"manish\",\"mohit\",\"madhav\"]]\n",
        "a1[1]\n",
        "a1[4][0]"
      ],
      "metadata": {
        "colab": {
          "base_uri": "https://localhost:8080/",
          "height": 36
        },
        "id": "qSHiN-2u3iHm",
        "outputId": "bd2aaf56-2a0a-460f-bd1f-eb3b4c93ff32"
      },
      "execution_count": 77,
      "outputs": [
        {
          "output_type": "execute_result",
          "data": {
            "text/plain": [
              "'manish'"
            ],
            "application/vnd.google.colaboratory.intrinsic+json": {
              "type": "string"
            }
          },
          "metadata": {},
          "execution_count": 77
        }
      ]
    },
    {
      "cell_type": "code",
      "source": [
        "a1[4][1:]"
      ],
      "metadata": {
        "colab": {
          "base_uri": "https://localhost:8080/"
        },
        "id": "aIqGiWPi2yB3",
        "outputId": "89c18703-6ceb-4c61-860a-3cc7e42f81c4"
      },
      "execution_count": 78,
      "outputs": [
        {
          "output_type": "execute_result",
          "data": {
            "text/plain": [
              "['mohit', 'madhav']"
            ]
          },
          "metadata": {},
          "execution_count": 78
        }
      ]
    },
    {
      "cell_type": "code",
      "source": [
        "x=a1[4][0:]\n",
        "y=a1[0:3]\n",
        "print(x+y)"
      ],
      "metadata": {
        "colab": {
          "base_uri": "https://localhost:8080/"
        },
        "id": "HDwWgYM62_DK",
        "outputId": "527e3657-063a-4a8b-89f2-919188a3972e"
      },
      "execution_count": 79,
      "outputs": [
        {
          "output_type": "stream",
          "name": "stdout",
          "text": [
            "['manish', 'mohit', 'madhav', 'gorav', 'vivek', 'mayank']\n"
          ]
        }
      ]
    },
    {
      "cell_type": "markdown",
      "source": [
        "Tuple\n",
        "Braket for Tuple()\n"
      ],
      "metadata": {
        "id": "qaDDb39bj0hS"
      }
    },
    {
      "cell_type": "code",
      "source": [
        "tup=(\"India\",\"USA\",\"China\",\"Australia\",\"Hungry\",26,900,-300,220)\n",
        "print(tup)\n",
        "type(tup)\n"
      ],
      "metadata": {
        "colab": {
          "base_uri": "https://localhost:8080/"
        },
        "id": "RBOIQ7HRjLIk",
        "outputId": "326f4602-5d71-4415-967b-639fdb243f48"
      },
      "execution_count": 80,
      "outputs": [
        {
          "output_type": "stream",
          "name": "stdout",
          "text": [
            "('India', 'USA', 'China', 'Australia', 'Hungry', 26, 900, -300, 220)\n"
          ]
        },
        {
          "output_type": "execute_result",
          "data": {
            "text/plain": [
              "tuple"
            ]
          },
          "metadata": {},
          "execution_count": 80
        }
      ]
    },
    {
      "cell_type": "code",
      "source": [
        "tup[1:4]"
      ],
      "metadata": {
        "colab": {
          "base_uri": "https://localhost:8080/"
        },
        "id": "ISulD_zhlYGp",
        "outputId": "c24db84f-6f3f-4001-cb38-0b555050b864"
      },
      "execution_count": 81,
      "outputs": [
        {
          "output_type": "execute_result",
          "data": {
            "text/plain": [
              "('USA', 'China', 'Australia')"
            ]
          },
          "metadata": {},
          "execution_count": 81
        }
      ]
    },
    {
      "cell_type": "code",
      "source": [
        "my_t=[123,25,265,24,15,25,45,47]\n",
        "sum(my_t)\n"
      ],
      "metadata": {
        "colab": {
          "base_uri": "https://localhost:8080/"
        },
        "id": "SgiyRJRTlifd",
        "outputId": "87d1955b-a20e-4f37-e6ed-b9d7920a1e2e"
      },
      "execution_count": 82,
      "outputs": [
        {
          "output_type": "execute_result",
          "data": {
            "text/plain": [
              "569"
            ]
          },
          "metadata": {},
          "execution_count": 82
        }
      ]
    },
    {
      "cell_type": "code",
      "source": [
        "max(my_t)"
      ],
      "metadata": {
        "colab": {
          "base_uri": "https://localhost:8080/"
        },
        "id": "QXRfDvtdmmNb",
        "outputId": "1744f4a0-ce01-46db-f703-5b4ed7f5fed6"
      },
      "execution_count": 83,
      "outputs": [
        {
          "output_type": "execute_result",
          "data": {
            "text/plain": [
              "265"
            ]
          },
          "metadata": {},
          "execution_count": 83
        }
      ]
    },
    {
      "cell_type": "code",
      "source": [
        "min(my_t)"
      ],
      "metadata": {
        "colab": {
          "base_uri": "https://localhost:8080/"
        },
        "id": "sm2X7OOwmqH4",
        "outputId": "36e4295d-2268-4e38-9839-850296fec7e0"
      },
      "execution_count": 84,
      "outputs": [
        {
          "output_type": "execute_result",
          "data": {
            "text/plain": [
              "15"
            ]
          },
          "metadata": {},
          "execution_count": 84
        }
      ]
    },
    {
      "cell_type": "code",
      "source": [
        "len(my_t)"
      ],
      "metadata": {
        "colab": {
          "base_uri": "https://localhost:8080/"
        },
        "id": "X8Q8sK1amuBZ",
        "outputId": "6d9930c6-e4c9-4cfd-d1c5-ff948eb73b58"
      },
      "execution_count": 85,
      "outputs": [
        {
          "output_type": "execute_result",
          "data": {
            "text/plain": [
              "8"
            ]
          },
          "metadata": {},
          "execution_count": 85
        }
      ]
    },
    {
      "cell_type": "markdown",
      "source": [
        "Dictionary\n",
        "\n",
        "It reqired key value pair"
      ],
      "metadata": {
        "id": "hgtmCYMBm9fV"
      }
    },
    {
      "cell_type": "code",
      "source": [
        "list_1={\"mango\":250,\"Banana\":50,\"Apple\":200,\"Peach\":100,\"Papaya\":60,\"bread\":45}\n",
        "print(list_1)\n",
        "type(list_1)"
      ],
      "metadata": {
        "colab": {
          "base_uri": "https://localhost:8080/"
        },
        "id": "8xGEMmevm7bx",
        "outputId": "94259345-8ba8-4152-846d-239f91474104"
      },
      "execution_count": 86,
      "outputs": [
        {
          "output_type": "stream",
          "name": "stdout",
          "text": [
            "{'mango': 250, 'Banana': 50, 'Apple': 200, 'Peach': 100, 'Papaya': 60, 'bread': 45}\n"
          ]
        },
        {
          "output_type": "execute_result",
          "data": {
            "text/plain": [
              "dict"
            ]
          },
          "metadata": {},
          "execution_count": 86
        }
      ]
    },
    {
      "cell_type": "code",
      "source": [
        "list_1[\"bread\"]"
      ],
      "metadata": {
        "colab": {
          "base_uri": "https://localhost:8080/"
        },
        "id": "j8f28yrSrqsE",
        "outputId": "a55555f5-3e2b-4670-a1ec-bb7bdd63569f"
      },
      "execution_count": 87,
      "outputs": [
        {
          "output_type": "execute_result",
          "data": {
            "text/plain": [
              "45"
            ]
          },
          "metadata": {},
          "execution_count": 87
        }
      ]
    },
    {
      "cell_type": "code",
      "source": [
        "# Add new Item\n",
        "list_1[\"icecream\"]=300\n",
        "print(list_1)"
      ],
      "metadata": {
        "colab": {
          "base_uri": "https://localhost:8080/"
        },
        "id": "3KgFYzBosT6J",
        "outputId": "c8fb03b7-b1e1-4157-d76c-f9cc30627144"
      },
      "execution_count": 88,
      "outputs": [
        {
          "output_type": "stream",
          "name": "stdout",
          "text": [
            "{'mango': 250, 'Banana': 50, 'Apple': 200, 'Peach': 100, 'Papaya': 60, 'bread': 45, 'icecream': 300}\n"
          ]
        }
      ]
    },
    {
      "cell_type": "code",
      "source": [
        "list_1.keys()"
      ],
      "metadata": {
        "colab": {
          "base_uri": "https://localhost:8080/"
        },
        "id": "auzBbRZKs1W4",
        "outputId": "6b6a7a57-4fb5-4c00-e967-5dbea01d1a9c"
      },
      "execution_count": 89,
      "outputs": [
        {
          "output_type": "execute_result",
          "data": {
            "text/plain": [
              "dict_keys(['mango', 'Banana', 'Apple', 'Peach', 'Papaya', 'bread', 'icecream'])"
            ]
          },
          "metadata": {},
          "execution_count": 89
        }
      ]
    },
    {
      "cell_type": "code",
      "source": [
        "list_1.values()"
      ],
      "metadata": {
        "colab": {
          "base_uri": "https://localhost:8080/"
        },
        "id": "q7J2OvCCs-mY",
        "outputId": "a53f339b-382d-4289-b431-2e9f02db72b2"
      },
      "execution_count": 90,
      "outputs": [
        {
          "output_type": "execute_result",
          "data": {
            "text/plain": [
              "dict_values([250, 50, 200, 100, 60, 45, 300])"
            ]
          },
          "metadata": {},
          "execution_count": 90
        }
      ]
    },
    {
      "cell_type": "code",
      "source": [
        "list_1[\"Notebook\"]=150\n",
        "print(list_1)"
      ],
      "metadata": {
        "colab": {
          "base_uri": "https://localhost:8080/"
        },
        "id": "_mOZJ4ZytXSc",
        "outputId": "45648f66-c8d3-4995-ec5b-d3cf3b7dff29"
      },
      "execution_count": 91,
      "outputs": [
        {
          "output_type": "stream",
          "name": "stdout",
          "text": [
            "{'mango': 250, 'Banana': 50, 'Apple': 200, 'Peach': 100, 'Papaya': 60, 'bread': 45, 'icecream': 300, 'Notebook': 150}\n"
          ]
        }
      ]
    },
    {
      "cell_type": "code",
      "source": [
        "# for remove last product\n",
        "list_1.popitem()\n"
      ],
      "metadata": {
        "colab": {
          "base_uri": "https://localhost:8080/"
        },
        "id": "TEKIbHV4tnw8",
        "outputId": "9a301ad3-4875-4fc0-faf3-07c93e09fdf3"
      },
      "execution_count": 92,
      "outputs": [
        {
          "output_type": "execute_result",
          "data": {
            "text/plain": [
              "('Notebook', 150)"
            ]
          },
          "metadata": {},
          "execution_count": 92
        }
      ]
    },
    {
      "cell_type": "code",
      "source": [
        "print(list_1)"
      ],
      "metadata": {
        "colab": {
          "base_uri": "https://localhost:8080/"
        },
        "id": "1QacePzYt0Zk",
        "outputId": "69cadbf2-6189-4c08-a320-8e80e4df3850"
      },
      "execution_count": 93,
      "outputs": [
        {
          "output_type": "stream",
          "name": "stdout",
          "text": [
            "{'mango': 250, 'Banana': 50, 'Apple': 200, 'Peach': 100, 'Papaya': 60, 'bread': 45, 'icecream': 300}\n"
          ]
        }
      ]
    },
    {
      "cell_type": "code",
      "source": [
        "#Delete the whole dectionary\n",
        "list_1.clear()"
      ],
      "metadata": {
        "id": "sZRJ004yt6QA"
      },
      "execution_count": 96,
      "outputs": []
    },
    {
      "cell_type": "code",
      "source": [
        "print(list_1)"
      ],
      "metadata": {
        "colab": {
          "base_uri": "https://localhost:8080/"
        },
        "id": "sBMojUInvTkg",
        "outputId": "d4f3e4cf-24c6-4fe3-a8de-5fe7553625cd"
      },
      "execution_count": 95,
      "outputs": [
        {
          "output_type": "stream",
          "name": "stdout",
          "text": [
            "{}\n"
          ]
        }
      ]
    },
    {
      "cell_type": "code",
      "source": [
        "emp={\"name\":\"Ayush Malviya\",\"Age\":23,\"Designation\":\"Teritory Operation Incharge\",\"Salary\":35000}\n",
        "print(emp)"
      ],
      "metadata": {
        "colab": {
          "base_uri": "https://localhost:8080/"
        },
        "id": "GSftFRyVvkLI",
        "outputId": "22b3bdd5-8e8d-422b-f4e8-9614a51e44e5"
      },
      "execution_count": 99,
      "outputs": [
        {
          "output_type": "stream",
          "name": "stdout",
          "text": [
            "{'name': 'Ayush Malviya', 'Age': 23, 'Designation': 'Teritory Operation Incharge', 'Salary': 35000}\n"
          ]
        }
      ]
    },
    {
      "cell_type": "code",
      "source": [
        "emp[\"City\"]=\"Bhopal\"\n",
        "print(emp)"
      ],
      "metadata": {
        "colab": {
          "base_uri": "https://localhost:8080/"
        },
        "id": "zSmkul8nwYAq",
        "outputId": "8d788774-4224-46df-d450-1cd3743e04d3"
      },
      "execution_count": 101,
      "outputs": [
        {
          "output_type": "stream",
          "name": "stdout",
          "text": [
            "{'name': 'Ayush Malviya', 'Age': 23, 'Designation': 'Teritory Operation Incharge', 'Salary': 35000, 'City': 'Bhopal'}\n"
          ]
        }
      ]
    },
    {
      "cell_type": "code",
      "source": [
        "emp[\"Age\"]"
      ],
      "metadata": {
        "colab": {
          "base_uri": "https://localhost:8080/"
        },
        "id": "ODwnw9buwgaU",
        "outputId": "47798f8d-b8db-42f2-8edf-68433ec04138"
      },
      "execution_count": 103,
      "outputs": [
        {
          "output_type": "execute_result",
          "data": {
            "text/plain": [
              "23"
            ]
          },
          "metadata": {},
          "execution_count": 103
        }
      ]
    },
    {
      "cell_type": "code",
      "source": [
        "emp[\"Salary\"]=45000\n",
        "print(emp)"
      ],
      "metadata": {
        "colab": {
          "base_uri": "https://localhost:8080/"
        },
        "id": "ywZfFlSlw1eu",
        "outputId": "88ceb2d6-f4b1-4586-f2c4-5c9d1b823c8f"
      },
      "execution_count": 105,
      "outputs": [
        {
          "output_type": "stream",
          "name": "stdout",
          "text": [
            "{'name': 'Ayush Malviya', 'Age': 23, 'Designation': 'Teritory Operation Incharge', 'Salary': 45000, 'City': 'Bhopal'}\n"
          ]
        }
      ]
    },
    {
      "cell_type": "code",
      "source": [
        "emp.popitem()"
      ],
      "metadata": {
        "colab": {
          "base_uri": "https://localhost:8080/"
        },
        "id": "BjSxM-isxPlF",
        "outputId": "fabd7bd9-5533-4128-dab1-f9bf8b34a9bb"
      },
      "execution_count": 110,
      "outputs": [
        {
          "output_type": "execute_result",
          "data": {
            "text/plain": [
              "('City', 'Bhopal')"
            ]
          },
          "metadata": {},
          "execution_count": 110
        }
      ]
    },
    {
      "cell_type": "code",
      "source": [
        "print(emp)"
      ],
      "metadata": {
        "colab": {
          "base_uri": "https://localhost:8080/"
        },
        "id": "qdkswncdym_v",
        "outputId": "7161412f-b555-468a-ea09-efe158432278"
      },
      "execution_count": 111,
      "outputs": [
        {
          "output_type": "stream",
          "name": "stdout",
          "text": [
            "{'name': 'Ayush Malviya', 'Age': 23, 'Designation': 'Teritory Operation Incharge', 'Salary': 45000}\n"
          ]
        }
      ]
    },
    {
      "cell_type": "markdown",
      "source": [
        "SETS"
      ],
      "metadata": {
        "id": "mr019lBh3afu"
      }
    },
    {
      "cell_type": "code",
      "source": [
        "se={1,2,4,1,2,2,3,4,5,\"Mango\",\"Mango\",\"russia\"}\n",
        "print(se)\n",
        "type(se)"
      ],
      "metadata": {
        "colab": {
          "base_uri": "https://localhost:8080/"
        },
        "id": "0Mj6K7SM3Yym",
        "outputId": "7fcbe97c-205d-4f6d-9656-ec2afaf9243b"
      },
      "execution_count": 113,
      "outputs": [
        {
          "output_type": "stream",
          "name": "stdout",
          "text": [
            "{1, 2, 3, 4, 5, 'russia', 'Mango'}\n"
          ]
        },
        {
          "output_type": "execute_result",
          "data": {
            "text/plain": [
              "set"
            ]
          },
          "metadata": {},
          "execution_count": 113
        }
      ]
    },
    {
      "cell_type": "code",
      "source": [
        "# Add new element\n",
        "se.add(\"pakistan\")"
      ],
      "metadata": {
        "id": "wMiHwkOP33I_"
      },
      "execution_count": 114,
      "outputs": []
    },
    {
      "cell_type": "code",
      "source": [
        "print(se)"
      ],
      "metadata": {
        "colab": {
          "base_uri": "https://localhost:8080/"
        },
        "id": "2YxEvHc34ExR",
        "outputId": "1b4ff2be-cbfe-42a7-d9ee-39ce321a96b7"
      },
      "execution_count": 115,
      "outputs": [
        {
          "output_type": "stream",
          "name": "stdout",
          "text": [
            "{1, 2, 3, 4, 5, 'russia', 'pakistan', 'Mango'}\n"
          ]
        }
      ]
    },
    {
      "cell_type": "code",
      "source": [
        "se.discard(\"pakistan\")\n",
        "print(se)"
      ],
      "metadata": {
        "colab": {
          "base_uri": "https://localhost:8080/"
        },
        "id": "cnYfPdz04Ip2",
        "outputId": "b849a6ec-cece-4b75-ece1-cfc5cab33f35"
      },
      "execution_count": 119,
      "outputs": [
        {
          "output_type": "stream",
          "name": "stdout",
          "text": [
            "{1, 2, 3, 4, 5, 'russia', 'Mango'}\n"
          ]
        }
      ]
    },
    {
      "cell_type": "markdown",
      "source": [
        "BOOLEAN"
      ],
      "metadata": {
        "id": "YefeNc324iVd"
      }
    },
    {
      "cell_type": "code",
      "source": [
        "a=50\n",
        "b=35\n",
        "print(a<b)\n",
        "print(a>b)\n",
        "type(a<b)"
      ],
      "metadata": {
        "colab": {
          "base_uri": "https://localhost:8080/"
        },
        "id": "wuu0pmmv4hM6",
        "outputId": "d4610155-33b7-4f49-b5d0-d4d582bc79aa"
      },
      "execution_count": 121,
      "outputs": [
        {
          "output_type": "stream",
          "name": "stdout",
          "text": [
            "False\n",
            "True\n"
          ]
        },
        {
          "output_type": "execute_result",
          "data": {
            "text/plain": [
              "bool"
            ]
          },
          "metadata": {},
          "execution_count": 121
        }
      ]
    },
    {
      "cell_type": "markdown",
      "source": [],
      "metadata": {
        "id": "ZJDXIj5Y5IjQ"
      }
    }
  ],
  "metadata": {
    "colab": {
      "provenance": []
    },
    "kernelspec": {
      "display_name": "Python 3",
      "name": "python3"
    },
    "language_info": {
      "name": "python"
    }
  },
  "nbformat": 4,
  "nbformat_minor": 0
}